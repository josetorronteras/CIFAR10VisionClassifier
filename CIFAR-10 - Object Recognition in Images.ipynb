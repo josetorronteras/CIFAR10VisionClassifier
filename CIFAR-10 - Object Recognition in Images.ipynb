{
 "cells": [
  {
   "attachments": {},
   "cell_type": "markdown",
   "metadata": {},
   "source": [
    "CIFAR 10 - Object Recognition in Images\n",
    "Kaggle Competition\n",
    "Model trained with CreateML\n",
    "https://www.kaggle.com/competitions/cifar-10"
   ]
  },
  {
   "cell_type": "code",
   "execution_count": 29,
   "metadata": {},
   "outputs": [],
   "source": [
    "import coremltools as ct\n",
    "import PIL\n",
    "import numpy as np\n",
    "import pandas as pd\n",
    "from tqdm import tqdm"
   ]
  },
  {
   "cell_type": "code",
   "execution_count": 30,
   "metadata": {},
   "outputs": [],
   "source": [
    "mlmodel = ct.models.MLModel('CIFAR10.mlmodel')"
   ]
  },
  {
   "cell_type": "code",
   "execution_count": 31,
   "metadata": {},
   "outputs": [],
   "source": [
    "df = pd.read_csv ('sampleSubmission.csv')"
   ]
  },
  {
   "cell_type": "code",
   "execution_count": 32,
   "metadata": {},
   "outputs": [],
   "source": [
    "def load_image(path):\n",
    "    img = PIL.Image.open(path)\n",
    "    img_np = np.array(img).astype(np.float32)\n",
    "    return img_np, img"
   ]
  },
  {
   "cell_type": "code",
   "execution_count": 33,
   "metadata": {},
   "outputs": [],
   "source": [
    "def predict(id):\n",
    "    _, img = load_image('test/' + str(id) + '.png')\n",
    "    out_dict = mlmodel.predict({'image': img})\n",
    "    return out_dict['classLabel']"
   ]
  },
  {
   "cell_type": "code",
   "execution_count": 34,
   "metadata": {},
   "outputs": [
    {
     "name": "stderr",
     "output_type": "stream",
     "text": [
      "100%|██████████| 300000/300000 [12:02:05<00:00,  6.92it/s]      \n"
     ]
    }
   ],
   "source": [
    "# get array of ids of the dataframe\n",
    "ids = df['id'].values\n",
    "\n",
    "# loop through the ids and load the image with load_image\n",
    "# then predict the class of the image and store it in an array\n",
    "# then save the array in the dataframe\n",
    "results = []\n",
    "for id in tqdm(ids):\n",
    "    results.append(predict(id))\n",
    "\n",
    "df['label'] = results\n",
    "df.to_csv('submission.csv', index=False)"
   ]
  }
 ],
 "metadata": {
  "kernelspec": {
   "display_name": "env",
   "language": "python",
   "name": "python3"
  },
  "language_info": {
   "codemirror_mode": {
    "name": "ipython",
    "version": 3
   },
   "file_extension": ".py",
   "mimetype": "text/x-python",
   "name": "python",
   "nbconvert_exporter": "python",
   "pygments_lexer": "ipython3",
   "version": "3.9.6"
  },
  "orig_nbformat": 4
 },
 "nbformat": 4,
 "nbformat_minor": 2
}
